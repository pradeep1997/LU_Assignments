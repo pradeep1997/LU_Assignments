{
 "cells": [
  {
   "cell_type": "markdown",
   "id": "vocational-cover",
   "metadata": {},
   "source": [
    "# Assignment 1 | 25th February 2021\n"
   ]
  },
  {
   "cell_type": "markdown",
   "id": "loose-future",
   "metadata": {},
   "source": [
    "### Question 1:\n",
    "Given the following jumbled word, OBANWRI guess the correct English word.\n",
    "    A. RANIBOW\n",
    "    B. RAINBOW\n",
    "    C. BOWRANI\n",
    "    D. ROBWANI\n",
    "    \n",
    "Ans. (B)    "
   ]
  },
  {
   "cell_type": "markdown",
   "id": "broken-patrick",
   "metadata": {},
   "source": [
    "### Question 2:\n",
    "\n",
    "Write a program that prints “LETS UPGRADE”. (Please note that you have to print in ALL CAPS\n",
    "as given)"
   ]
  },
  {
   "cell_type": "code",
   "execution_count": 2,
   "id": "equipped-thesaurus",
   "metadata": {},
   "outputs": [
    {
     "name": "stdout",
     "output_type": "stream",
     "text": [
      "LETS UPGRADE\n"
     ]
    }
   ],
   "source": [
    "print(\"lets upgrade\".upper())"
   ]
  },
  {
   "cell_type": "markdown",
   "id": "coupled-birthday",
   "metadata": {},
   "source": [
    "### Question 3:\n",
    "\n",
    "Write a program that takes cost price and selling price as input and\n",
    "displays whether the transaction is a Profit or a Loss or Neither​ .\n",
    "    INPUT FORMAT\n",
    "        ● The first line contains the cost price.\n",
    "        ● The second line contains the selling price.\n",
    "    OUTPUT FORMAT\n",
    "        ● Print \"Profit\" if the transaction is a profit or \"Loss\" if it is a loss. If it is neither\n",
    "        ● profit nor loss, print \"Neither\". (You must not have quotes in your output)\n",
    "        \n",
    "NOTE: Please stick to the input and output format. Don't add anything extra like\n",
    "'Enter cost price', 'Enter selling price', etc.\n",
    "(Some part missing)"
   ]
  },
  {
   "cell_type": "code",
   "execution_count": 17,
   "id": "interracial-figure",
   "metadata": {},
   "outputs": [
    {
     "name": "stdout",
     "output_type": "stream",
     "text": [
      "20\n",
      "30\n",
      "Profit\n"
     ]
    }
   ],
   "source": [
    "cost = int(input())\n",
    "price = int(input())\n",
    "\n",
    "if price >= cost * 1.5:\n",
    "    print(\"Profit\")\n",
    "elif price <= (cost/2):\n",
    "    print(\"Lost\")\n",
    "else:\n",
    "    print(\"Neither\")"
   ]
  },
  {
   "cell_type": "markdown",
   "id": "lyric-wrong",
   "metadata": {},
   "source": [
    "### Question 4:\n",
    "\n",
    "Write a program that takes an amount in Euros as input. You need to find its equivalent in\n",
    "Rupees and display it. Assume 1 Euro equals Rs. 80.\n",
    "\n",
    "\n",
    "Please note that you are expected to stick to the given input and output\n",
    "format as in sample test cases. Please don't add any extra lines such as\n",
    "'Enter a number’ etc.\n",
    "Your program should take only one number as input and display the output."
   ]
  },
  {
   "cell_type": "code",
   "execution_count": 27,
   "id": "incredible-drilling",
   "metadata": {},
   "outputs": [
    {
     "name": "stdout",
     "output_type": "stream",
     "text": [
      "18\n",
      "1440\n"
     ]
    }
   ],
   "source": [
    "euros = int(input())\n",
    "rupees = euros*80\n",
    "print(rupees)"
   ]
  },
  {
   "cell_type": "markdown",
   "id": "arctic-entrepreneur",
   "metadata": {},
   "source": [
    "### Question 5:\n",
    "\n",
    "Create an empty list. Accept 10 numbers from the user and append to it the list if it is an even\n",
    "number."
   ]
  },
  {
   "cell_type": "code",
   "execution_count": 43,
   "id": "eleven-adrian",
   "metadata": {},
   "outputs": [
    {
     "name": "stdout",
     "output_type": "stream",
     "text": [
      "20\n",
      "30\n",
      "49\n",
      "48\n",
      "47\n",
      "46\n",
      "28\n",
      "10\n",
      "20\n",
      "42\n",
      "[20, 30, 48, 46, 28, 10, 20, 42]\n"
     ]
    }
   ],
   "source": [
    "lst = []\n",
    "for i in range(10):\n",
    "    inp = int(input())\n",
    "    if inp%2==0:\n",
    "        lst.append(inp)\n",
    "print(lst)"
   ]
  },
  {
   "cell_type": "markdown",
   "id": "canadian-stage",
   "metadata": {},
   "source": [
    "### Question 6:\n",
    "\n",
    "Create a notebook on LIST COMPREHENSION. This exercise is to put you in a\n",
    "Self-learning mode"
   ]
  },
  {
   "cell_type": "code",
   "execution_count": 47,
   "id": "swedish-sacramento",
   "metadata": {},
   "outputs": [
    {
     "data": {
      "text/plain": [
       "[0, 4, 16, 36, 64]"
      ]
     },
     "execution_count": 47,
     "metadata": {},
     "output_type": "execute_result"
    }
   ],
   "source": [
    "[x**2 for x in range(10) if x%2==0]"
   ]
  },
  {
   "cell_type": "code",
   "execution_count": 49,
   "id": "rapid-stewart",
   "metadata": {},
   "outputs": [
    {
     "data": {
      "text/plain": [
       "[3, 6, 9, 12, 15, 18, 21]"
      ]
     },
     "execution_count": 49,
     "metadata": {},
     "output_type": "execute_result"
    }
   ],
   "source": [
    "[x+3 for x in range(21) if x%3==0]"
   ]
  },
  {
   "cell_type": "code",
   "execution_count": 56,
   "id": "established-luxembourg",
   "metadata": {},
   "outputs": [
    {
     "data": {
      "text/plain": [
       "[1, 2, 3, 4]"
      ]
     },
     "execution_count": 56,
     "metadata": {},
     "output_type": "execute_result"
    }
   ],
   "source": [
    "[int(x/2) for x in range(1,10) if x%2==0]"
   ]
  },
  {
   "cell_type": "markdown",
   "id": "interested-memphis",
   "metadata": {},
   "source": [
    "### Question 7:\n",
    "\n",
    "You have seen in the videos how powerful dictionary data structure is.\n",
    "In this assignment, given a number n, you have to write a program that generates a dictionary\n",
    "d which contains (i, i*i), where i is from 1 to n (both included).\n",
    "Then you have to just print this dictionary d."
   ]
  },
  {
   "cell_type": "code",
   "execution_count": 63,
   "id": "ultimate-grove",
   "metadata": {},
   "outputs": [
    {
     "name": "stdout",
     "output_type": "stream",
     "text": [
      "4\n",
      "{1: 1, 2: 4, 3: 9, 4: 16}\n"
     ]
    }
   ],
   "source": [
    "n = int(input())\n",
    "d = {}\n",
    "\n",
    "for i in range(1, n+1):\n",
    "    d[i]=i*i\n",
    "print(d)"
   ]
  },
  {
   "cell_type": "markdown",
   "id": "established-message",
   "metadata": {},
   "source": [
    "### Questions 8:\n",
    "\n",
    "There is a robot that wants to go to the charging point to charge itself.\n",
    "The robot moves in a 2-D plane from the original point (0,0). The robot can\n",
    "move toward UP, DOWN, LEFT, and RIGHT with given steps.\n",
    "The trace of robot movement is shown as the following:\n",
    "    UP 5\n",
    "    DOWN 3\n",
    "    LEFT 3\n",
    "    RIGHT 2\n",
    "Then, the output of the program should be: 2\n",
    "The numbers after the direction are steps.\n",
    "Write a program to compute the distance between the current position after\n",
    "a sequence of movement and the original point. If the distance is float, then\n",
    "just print the nearest integer (use round() function for that and then convert\n",
    "it into an integer).\n",
    "Input Format:\n",
    "The first line of the input contains a number n which implies the number of\n",
    "directions to be given.\n",
    "The next n lines contain the direction and the step separated by a space.\n",
    "Output Format:\n",
    "Print the distance from the original position to the current position.\n",
    "### Example:\n",
    "    Input: 4\n",
    "    UP 5\n",
    "    DOWN 3\n",
    "    LEFT 3\n",
    "    RIGHT 2\n",
    "    \n",
    "### Output: 2"
   ]
  },
  {
   "cell_type": "code",
   "execution_count": 98,
   "id": "chronic-scratch",
   "metadata": {},
   "outputs": [
    {
     "name": "stdout",
     "output_type": "stream",
     "text": [
      "4\n",
      "UP 5\n",
      "DOWN 3\n",
      "LEFT 3\n",
      "RIGHT 2\n",
      "\n",
      "2\n"
     ]
    }
   ],
   "source": [
    "from math import sqrt\n",
    "lst = []\n",
    "position = [0,0]\n",
    "while True:\n",
    "    a = input()\n",
    "    if not a:\n",
    "        break\n",
    "    lst.append(a)\n",
    "for i in lst:\n",
    "    if 'UP' in i:\n",
    "        position[0] -= int(i.strip('UP '))\n",
    "    if 'DOWN' in i:\n",
    "        position[0] += int(i.strip('DOWN '))\n",
    "    if 'LEFT' in i:\n",
    "        position[1] -= int(i.strip('LEFT '))\n",
    "    if 'RIGHT' in i:\n",
    "        position[1] += int(i.strip('RIGHT '))\n",
    "print(round(sqrt(position[1] ** 2 + position[0] ** 2)))"
   ]
  },
  {
   "cell_type": "markdown",
   "id": "quarterly-march",
   "metadata": {},
   "source": [
    "### Questions 9:\n",
    "Create a NumPy array starting from 2 till 50 with a step size of 3."
   ]
  },
  {
   "cell_type": "code",
   "execution_count": 101,
   "id": "portable-miami",
   "metadata": {},
   "outputs": [
    {
     "name": "stdout",
     "output_type": "stream",
     "text": [
      "[ 2  5  8 11 14 17 20 23 26 29 32 35 38 41 44 47]\n"
     ]
    }
   ],
   "source": [
    "import numpy as np\n",
    "arr = np.array(range(2,50,3))\n",
    "print(arr)"
   ]
  },
  {
   "cell_type": "markdown",
   "id": "optional-doctrine",
   "metadata": {},
   "source": [
    "### Questions 10:\n",
    "Accept two lists of 5 elements each from the user.\n",
    "Convert them to NumPy arrays. Concatenate these arrays and print them. Also, sort these arrays\n",
    "and print them."
   ]
  },
  {
   "cell_type": "code",
   "execution_count": 203,
   "id": "wired-toner",
   "metadata": {},
   "outputs": [
    {
     "name": "stdout",
     "output_type": "stream",
     "text": [
      "5\n",
      "4\n",
      "3\n",
      "2\n",
      "1\n",
      "['5', '4', '3', '2', '1']\n",
      "9\n",
      "8\n",
      "7\n",
      "6\n",
      "5\n",
      "['9', '8', '7', '6', '5']\n",
      "\n",
      "Array 1st is : [5 4 3 2 1]\n",
      "Array 2nd is : [9 8 7 6 5]\n"
     ]
    }
   ],
   "source": [
    "lst1 = []\n",
    "lst2 = []\n",
    "# Accepting elements from user and appending them to list\n",
    "for i in range(5):\n",
    "    lst1.append(input())\n",
    "print(lst1)\n",
    "\n",
    "for i in range(5):\n",
    "    lst2.append(input())\n",
    "print(lst2)\n",
    "\n",
    "# converting list to array\n",
    "\n",
    "import numpy as np\n",
    "arr1 = np.array(lst1, dtype=int)\n",
    "arr2 = np.array(lst2, dtype=int)\n",
    "print()\n",
    "print(\"Array 1st is :\",arr1)\n",
    "print(\"Array 2nd is :\",arr2)"
   ]
  },
  {
   "cell_type": "code",
   "execution_count": 204,
   "id": "active-webster",
   "metadata": {},
   "outputs": [
    {
     "name": "stdout",
     "output_type": "stream",
     "text": [
      "Array after Concatenated: \n",
      " [5 4 3 2 1 9 8 7 6 5]\n"
     ]
    }
   ],
   "source": [
    "# Concatenate two arrays\n",
    "\n",
    "Concatenated_arr = np.concatenate((arr1, arr2), axis= 0)\n",
    "print(\"Array after Concatenated: \\n\", Concatenated_arr)"
   ]
  },
  {
   "cell_type": "code",
   "execution_count": 205,
   "id": "rental-priority",
   "metadata": {},
   "outputs": [
    {
     "name": "stdout",
     "output_type": "stream",
     "text": [
      "Sorted array\n",
      "[1 2 3 4 5]\n",
      "Sorted array\n",
      "[5 6 7 8 9]\n"
     ]
    }
   ],
   "source": [
    "# sorting above array\n",
    "def selection(arr):\n",
    "    for i in range(len(arr)):\n",
    "        min_index = i\n",
    "        for j in range(i+1, len(arr)):\n",
    "            if arr[min_index] > arr[j]:\n",
    "                min_index = j\n",
    "        arr[i],arr[min_index] = arr[min_index],arr[i]\n",
    "    print(\"Sorted array\")\n",
    "    print(arr)\n",
    "selection(arr1)\n",
    "selection(arr2)"
   ]
  },
  {
   "cell_type": "markdown",
   "id": "functional-sense",
   "metadata": {},
   "source": [
    "### Questions 11:\n",
    "\n",
    "Write a code snippet to find the dimensions of a ndarray and its size."
   ]
  },
  {
   "cell_type": "code",
   "execution_count": 135,
   "id": "decreased-european",
   "metadata": {},
   "outputs": [
    {
     "name": "stdout",
     "output_type": "stream",
     "text": [
      "Dimension of array : (3, 3)\n",
      "Size of array : 9\n"
     ]
    }
   ],
   "source": [
    "arr = np.array([[1,2,3],[4,5,6],[7,8,9]])\n",
    "print(\"Dimension of array :\",arr.shape)\n",
    "print(\"Size of array :\",arr.size)"
   ]
  },
  {
   "cell_type": "markdown",
   "id": "covered-march",
   "metadata": {},
   "source": [
    "### Questions 12:\n",
    "\n",
    "How to convert a 1D array into a 2D array? Demonstrate with the help of a code snippet\n",
    "Hint: np.newaxis, np.expand_dims"
   ]
  },
  {
   "cell_type": "code",
   "execution_count": 147,
   "id": "packed-garage",
   "metadata": {},
   "outputs": [
    {
     "name": "stdout",
     "output_type": "stream",
     "text": [
      "[1 2 3 4 5]\n",
      "(5,)\n",
      "[[1 2 3 4 5]]\n",
      "(1, 5)\n",
      "[[1 2 3 4 5]]\n",
      "(1, 5)\n"
     ]
    }
   ],
   "source": [
    "# 1D array\n",
    "arr = np.array([1,2,3,4,5])\n",
    "print(arr)\n",
    "# Confirm dimension of array\n",
    "print(arr.shape)\n",
    "\n",
    "# convert array in 2D array using np.newaxis\n",
    "arr_new = arr[np.newaxis, :]\n",
    "print(arr_new)\n",
    "# Confirm dimension of array\n",
    "print(arr_new.shape)\n",
    "\n",
    "# convert array in 2D array using np.expand_dims\n",
    "\n",
    "arr_Expanded = np.expand_dims(arr, axis=0)\n",
    "print(arr_Expended)\n",
    "# Confirm dimension of array \n",
    "print(arr_Expanded.shape)"
   ]
  },
  {
   "cell_type": "markdown",
   "id": "isolated-anchor",
   "metadata": {},
   "source": [
    "### Questions 13:\n",
    "\n",
    "Consider two square NumPy arrays. Stack them vertically and horizontally.\n",
    "Hint: Use vstack(), hstack()"
   ]
  },
  {
   "cell_type": "code",
   "execution_count": 164,
   "id": "dressed-produce",
   "metadata": {},
   "outputs": [
    {
     "name": "stdout",
     "output_type": "stream",
     "text": [
      "First array is: \n",
      " [[1 2 3]\n",
      " [4 5 6]\n",
      " [7 8 9]]\n",
      "\n",
      "Second array is: \n",
      " [[1 2 3]\n",
      " [4 5 6]\n",
      " [7 8 9]]\n",
      "\n",
      "Vertically stack of both arrays: \n",
      " [[1 2 3]\n",
      " [4 5 6]\n",
      " [7 8 9]\n",
      " [1 2 3]\n",
      " [4 5 6]\n",
      " [7 8 9]]\n",
      "\n",
      "Horizontally stack of both arrays: \n",
      " [[1 2 3 1 2 3]\n",
      " [4 5 6 4 5 6]\n",
      " [7 8 9 7 8 9]]\n"
     ]
    }
   ],
   "source": [
    "A = np.array([[1,2,3],[4,5,6],[7,8,9]])\n",
    "print(\"First array is: \\n\", A)\n",
    "print()\n",
    "B = np.array([[1,2,3],[4,5,6],[7,8,9]])\n",
    "print(\"Second array is: \\n\", B)\n",
    "\n",
    "print()\n",
    "# Vertically Stack\n",
    "V = np.vstack((A,B))\n",
    "print(\"Vertically stack of both arrays: \\n\", V)\n",
    "\n",
    "print()\n",
    "\n",
    "# Horizontally Stack\n",
    "\n",
    "H = np.hstack((A,B))\n",
    "print(\"Horizontally stack of both arrays: \\n\", H)"
   ]
  },
  {
   "cell_type": "markdown",
   "id": "innovative-pavilion",
   "metadata": {},
   "source": [
    "### Questions 14:\n",
    "\n",
    "How to get unique items and counts of unique items?"
   ]
  },
  {
   "cell_type": "code",
   "execution_count": 186,
   "id": "norwegian-poetry",
   "metadata": {},
   "outputs": [
    {
     "name": "stdout",
     "output_type": "stream",
     "text": [
      "[1 2 3 4 5 6 7]\n",
      "7\n",
      "[1, 2, 3, 4, 5, 7, 6]\n",
      "7\n",
      "{1, 2, 3, 4, 5, 6, 7}\n",
      "7\n"
     ]
    }
   ],
   "source": [
    "# consider a list\n",
    "\n",
    "lst = [1,2,3,2,4,3,5,4,7,4,6,4]\n",
    "\n",
    "\n",
    "# 1st way to get only unique values\n",
    "u_lst = np.unique(lst)\n",
    "print(u_lst)\n",
    "print(len(u_lst))\n",
    "\n",
    "# 2nd way to find unique \n",
    "\n",
    "unique_lst = []\n",
    "count = 0\n",
    "for i in lst:\n",
    "    if i not in unique_lst:\n",
    "        count = count+ 1\n",
    "        unique_lst.append(i)\n",
    "print(unique_lst)\n",
    "print(count)\n",
    "\n",
    "# 3rd way to find unique values \n",
    "\n",
    "a_set = set(lst)  # by converting list into set \n",
    "print(a_set) # printing set\n",
    "print(len(a_set)) #printing length of set"
   ]
  },
  {
   "cell_type": "code",
   "execution_count": null,
   "id": "unavailable-hamilton",
   "metadata": {},
   "outputs": [],
   "source": []
  }
 ],
 "metadata": {
  "kernelspec": {
   "display_name": "Python 3",
   "language": "python",
   "name": "python3"
  },
  "language_info": {
   "codemirror_mode": {
    "name": "ipython",
    "version": 3
   },
   "file_extension": ".py",
   "mimetype": "text/x-python",
   "name": "python",
   "nbconvert_exporter": "python",
   "pygments_lexer": "ipython3",
   "version": "3.8.5"
  }
 },
 "nbformat": 4,
 "nbformat_minor": 5
}
